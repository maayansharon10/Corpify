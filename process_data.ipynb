{
 "cells": [
  {
   "cell_type": "markdown",
   "source": [
    "current problem that should be discussed -\n",
    "# todo : currently each regular is map to 1-5 different corp sentences, BUT it's still possible that 2 different regulars would be mapped to same corp sentences, same could be the opposite. for example - in data_sample_corp_to_1_regular each corp sentence is mapped to a single regular sentence, but since they don't have to be different, more than 2 different corp can be mapped into \"No.\"\n"
   ],
   "metadata": {
    "collapsed": false
   }
  },
  {
   "cell_type": "markdown",
   "source": [
    "import packages:"
   ],
   "metadata": {
    "collapsed": false
   }
  },
  {
   "cell_type": "code",
   "execution_count": 100,
   "outputs": [],
   "source": [
    "import pandas as pd\n",
    "from pathlib import Path"
   ],
   "metadata": {
    "collapsed": false
   }
  },
  {
   "cell_type": "markdown",
   "source": [
    "load data"
   ],
   "metadata": {
    "collapsed": false
   }
  },
  {
   "cell_type": "code",
   "execution_count": 107,
   "outputs": [],
   "source": [
    "dataset_path = 'initial_dataset/data_sample.csv'\n",
    "data = pd.read_csv(dataset_path)\n",
    "dataset_name = Path(dataset_path).stem"
   ],
   "metadata": {
    "collapsed": false
   }
  },
  {
   "cell_type": "markdown",
   "source": [
    "preprocess"
   ],
   "metadata": {
    "collapsed": false
   }
  },
  {
   "cell_type": "code",
   "execution_count": 108,
   "outputs": [],
   "source": [
    "def clean_col(df, col_name):\n",
    "    df[col_name] = df[col_name].apply(lambda x: x.strip().capitalize())\n",
    "    df[col_name] = df[col_name].apply(lambda x: x if x.endswith('.') else x + \".\")\n",
    "    return df"
   ],
   "metadata": {
    "collapsed": false
   }
  },
  {
   "cell_type": "code",
   "execution_count": 109,
   "outputs": [
    {
     "data": {
      "text/plain": "                                         regular   \n0                                            No.  \\\n3                                            No.   \n4                                            No.   \n5                                            No.   \n6                                            No.   \n7                                            No.   \n8                                            No.   \n9                                            No.   \n10                                           No.   \n11                                           No.   \n12                        I don't have the time.   \n13                        I don't have the time.   \n14                        I don't have the time.   \n15                        I don't have the time.   \n16                        I don't have the time.   \n17                        I don't have the time.   \n18                        I don't have the time.   \n19                        I don't have the time.   \n20                        I don't have the time.   \n21                        I don't have the time.   \n22                        I don't have the time.   \n23                        I don't have the time.   \n24                        I don't have the time.   \n25                        I don't have the time.   \n26                                           No.   \n27                                           No.   \n28                                           No.   \n29                                           No.   \n30                                           No.   \n31                                           No.   \n32                You are overcomplicating this.   \n33  That meeting sounds like a waste of my time.   \n34                                I told you so.   \n35             That sounds like a horrible idea.   \n\n                                                 corp  \n0                I appreciate the offer, but i can't.  \n3                             I'm honored, but can't.  \n4                           I'd love to, but i can't.  \n5   I appreciate the invitation, but i am complete...  \n6             Thanks for thinking of me, but i can't.  \n7                       Regrettably, i'm not able to.  \n8         You're so kind to think of me, but i can't.  \n9                 No thank you, but it sounds lovely.  \n10                 Thanks for the offer, but i can't.  \n11                    Thanks, but maybe another time.  \n12            I'm just swamped right now, so i can't.  \n13      I'm not able to make it this week/month/year.  \n14          Perhaps next season when things clear up.  \n15                                 Ask me in a month.  \n16                  Circle back to me in a few weeks.  \n17  I have a few things i need to take care of fir...  \n18  I'm really buckling down on my priorities righ...  \n19                              I'm really maxed out.  \n20          It?s not feasible for me to take this on.  \n21    Let me think about it and i'll get back to you.  \n22  I'm really spread thin these days, i just can'...  \n23           I've got too much on my plate right now.  \n24         I'm not taking on anything else right now.  \n25  Bandwidth is low, so i won't be able to make i...  \n26                       I wish i could make it work.  \n27                             I wish i were able to.  \n28                                    I'd rather not.  \n29                                I'm afraid i can't.  \n30                                  If only i could!.  \n31             No thanks, i won't be able to make it.  \n32  Being mindful of timelines. let?s concentrate ...  \n33  I'm unable to add value to this meeting but i ...  \n34  As per my prediction, this outcome does not co...  \n35  Are we confident that this is the best solutio...  ",
      "text/html": "<div>\n<style scoped>\n    .dataframe tbody tr th:only-of-type {\n        vertical-align: middle;\n    }\n\n    .dataframe tbody tr th {\n        vertical-align: top;\n    }\n\n    .dataframe thead th {\n        text-align: right;\n    }\n</style>\n<table border=\"1\" class=\"dataframe\">\n  <thead>\n    <tr style=\"text-align: right;\">\n      <th></th>\n      <th>regular</th>\n      <th>corp</th>\n    </tr>\n  </thead>\n  <tbody>\n    <tr>\n      <th>0</th>\n      <td>No.</td>\n      <td>I appreciate the offer, but i can't.</td>\n    </tr>\n    <tr>\n      <th>3</th>\n      <td>No.</td>\n      <td>I'm honored, but can't.</td>\n    </tr>\n    <tr>\n      <th>4</th>\n      <td>No.</td>\n      <td>I'd love to, but i can't.</td>\n    </tr>\n    <tr>\n      <th>5</th>\n      <td>No.</td>\n      <td>I appreciate the invitation, but i am complete...</td>\n    </tr>\n    <tr>\n      <th>6</th>\n      <td>No.</td>\n      <td>Thanks for thinking of me, but i can't.</td>\n    </tr>\n    <tr>\n      <th>7</th>\n      <td>No.</td>\n      <td>Regrettably, i'm not able to.</td>\n    </tr>\n    <tr>\n      <th>8</th>\n      <td>No.</td>\n      <td>You're so kind to think of me, but i can't.</td>\n    </tr>\n    <tr>\n      <th>9</th>\n      <td>No.</td>\n      <td>No thank you, but it sounds lovely.</td>\n    </tr>\n    <tr>\n      <th>10</th>\n      <td>No.</td>\n      <td>Thanks for the offer, but i can't.</td>\n    </tr>\n    <tr>\n      <th>11</th>\n      <td>No.</td>\n      <td>Thanks, but maybe another time.</td>\n    </tr>\n    <tr>\n      <th>12</th>\n      <td>I don't have the time.</td>\n      <td>I'm just swamped right now, so i can't.</td>\n    </tr>\n    <tr>\n      <th>13</th>\n      <td>I don't have the time.</td>\n      <td>I'm not able to make it this week/month/year.</td>\n    </tr>\n    <tr>\n      <th>14</th>\n      <td>I don't have the time.</td>\n      <td>Perhaps next season when things clear up.</td>\n    </tr>\n    <tr>\n      <th>15</th>\n      <td>I don't have the time.</td>\n      <td>Ask me in a month.</td>\n    </tr>\n    <tr>\n      <th>16</th>\n      <td>I don't have the time.</td>\n      <td>Circle back to me in a few weeks.</td>\n    </tr>\n    <tr>\n      <th>17</th>\n      <td>I don't have the time.</td>\n      <td>I have a few things i need to take care of fir...</td>\n    </tr>\n    <tr>\n      <th>18</th>\n      <td>I don't have the time.</td>\n      <td>I'm really buckling down on my priorities righ...</td>\n    </tr>\n    <tr>\n      <th>19</th>\n      <td>I don't have the time.</td>\n      <td>I'm really maxed out.</td>\n    </tr>\n    <tr>\n      <th>20</th>\n      <td>I don't have the time.</td>\n      <td>It?s not feasible for me to take this on.</td>\n    </tr>\n    <tr>\n      <th>21</th>\n      <td>I don't have the time.</td>\n      <td>Let me think about it and i'll get back to you.</td>\n    </tr>\n    <tr>\n      <th>22</th>\n      <td>I don't have the time.</td>\n      <td>I'm really spread thin these days, i just can'...</td>\n    </tr>\n    <tr>\n      <th>23</th>\n      <td>I don't have the time.</td>\n      <td>I've got too much on my plate right now.</td>\n    </tr>\n    <tr>\n      <th>24</th>\n      <td>I don't have the time.</td>\n      <td>I'm not taking on anything else right now.</td>\n    </tr>\n    <tr>\n      <th>25</th>\n      <td>I don't have the time.</td>\n      <td>Bandwidth is low, so i won't be able to make i...</td>\n    </tr>\n    <tr>\n      <th>26</th>\n      <td>No.</td>\n      <td>I wish i could make it work.</td>\n    </tr>\n    <tr>\n      <th>27</th>\n      <td>No.</td>\n      <td>I wish i were able to.</td>\n    </tr>\n    <tr>\n      <th>28</th>\n      <td>No.</td>\n      <td>I'd rather not.</td>\n    </tr>\n    <tr>\n      <th>29</th>\n      <td>No.</td>\n      <td>I'm afraid i can't.</td>\n    </tr>\n    <tr>\n      <th>30</th>\n      <td>No.</td>\n      <td>If only i could!.</td>\n    </tr>\n    <tr>\n      <th>31</th>\n      <td>No.</td>\n      <td>No thanks, i won't be able to make it.</td>\n    </tr>\n    <tr>\n      <th>32</th>\n      <td>You are overcomplicating this.</td>\n      <td>Being mindful of timelines. let?s concentrate ...</td>\n    </tr>\n    <tr>\n      <th>33</th>\n      <td>That meeting sounds like a waste of my time.</td>\n      <td>I'm unable to add value to this meeting but i ...</td>\n    </tr>\n    <tr>\n      <th>34</th>\n      <td>I told you so.</td>\n      <td>As per my prediction, this outcome does not co...</td>\n    </tr>\n    <tr>\n      <th>35</th>\n      <td>That sounds like a horrible idea.</td>\n      <td>Are we confident that this is the best solutio...</td>\n    </tr>\n  </tbody>\n</table>\n</div>"
     },
     "execution_count": 109,
     "metadata": {},
     "output_type": "execute_result"
    }
   ],
   "source": [
    "data = clean_col(data, \"regular\")\n",
    "data = clean_col(data, \"corp\")\n",
    "data = data.drop_duplicates()\n",
    "data"
   ],
   "metadata": {
    "collapsed": false
   }
  },
  {
   "cell_type": "markdown",
   "source": [
    "### save multi to multi version - (data is only cleaned)"
   ],
   "metadata": {
    "collapsed": false
   }
  },
  {
   "cell_type": "code",
   "execution_count": 110,
   "outputs": [],
   "source": [
    "data.to_csv('processed_dataset/multi_regular_to_multi_corp/' + dataset_name + '.csv')"
   ],
   "metadata": {
    "collapsed": false
   }
  },
  {
   "cell_type": "markdown",
   "source": [
    "\"single - multi\" ratios set (both for regular to corp and corp to regular)\n",
    "for example -\n",
    "multi_options = {1, 5}, so\n",
    "1 -> 1:1 for each single will have 1 option\n",
    "5 -> 1:5 for each single will have 5 options"
   ],
   "metadata": {
    "collapsed": false
   }
  },
  {
   "cell_type": "code",
   "execution_count": 132,
   "outputs": [],
   "source": [
    "multi_options = {1, 5}\n",
    "\n",
    "# todo -  continue here, fix bug\n",
    "def single_to_multi_explode_and_save(df, single_col, multi_col):\n",
    "    single_to_multi_df = df.groupby(single_col)[multi_col].apply(set).apply(list).reset_index(name=multi_col)\n",
    "    for i in multi_options:\n",
    "        multi_col_i = f'{multi_col}_{i}'\n",
    "\n",
    "        single_to_multi_df[multi_col_i] = single_to_multi_df[multi_col]\\\n",
    "            .apply(lambda lst: list(dict.fromkeys(lst))[:min(i, len(lst))])\n",
    "\n",
    "        df_temp_i = single_to_multi_df.explode(multi_col_i)\n",
    "        df_temp_i = df_temp_i[[single_col, multi_col_i]]\n",
    "\n",
    "        directory = f\"processed_dataset/multi_{multi_col}_to_single_{single_col}/{dataset_name}_{single_col}_to_{i}_{multi_col}.csv\"\n",
    "        df_temp_i.to_csv(directory)\n",
    "\n",
    "    return single_to_multi_df\n"
   ],
   "metadata": {
    "collapsed": false
   }
  },
  {
   "cell_type": "markdown",
   "source": [
    "\n",
    "For each regular - pick first 5 corp sentences (no corp dup are allowed for each reg)"
   ],
   "metadata": {
    "collapsed": false
   }
  },
  {
   "cell_type": "code",
   "execution_count": 136,
   "outputs": [
    {
     "data": {
      "text/plain": "                                        regular   \n0                        I don't have the time.  \\\n1                                I told you so.   \n2                                           No.   \n3  That meeting sounds like a waste of my time.   \n4             That sounds like a horrible idea.   \n5                You are overcomplicating this.   \n\n                                                corp   \n0  [Perhaps next season when things clear up., Ci...  \\\n1  [As per my prediction, this outcome does not c...   \n2  [No thank you, but it sounds lovely., Regretta...   \n3  [I'm unable to add value to this meeting but i...   \n4  [Are we confident that this is the best soluti...   \n5  [Being mindful of timelines. let?s concentrate...   \n\n                                              corp_1   \n0        [Perhaps next season when things clear up.]  \\\n1  [As per my prediction, this outcome does not c...   \n2              [No thank you, but it sounds lovely.]   \n3  [I'm unable to add value to this meeting but i...   \n4  [Are we confident that this is the best soluti...   \n5  [Being mindful of timelines. let?s concentrate...   \n\n                                              corp_5  \n0  [Perhaps next season when things clear up., Ci...  \n1  [As per my prediction, this outcome does not c...  \n2  [No thank you, but it sounds lovely., Regretta...  \n3  [I'm unable to add value to this meeting but i...  \n4  [Are we confident that this is the best soluti...  \n5  [Being mindful of timelines. let?s concentrate...  ",
      "text/html": "<div>\n<style scoped>\n    .dataframe tbody tr th:only-of-type {\n        vertical-align: middle;\n    }\n\n    .dataframe tbody tr th {\n        vertical-align: top;\n    }\n\n    .dataframe thead th {\n        text-align: right;\n    }\n</style>\n<table border=\"1\" class=\"dataframe\">\n  <thead>\n    <tr style=\"text-align: right;\">\n      <th></th>\n      <th>regular</th>\n      <th>corp</th>\n      <th>corp_1</th>\n      <th>corp_5</th>\n    </tr>\n  </thead>\n  <tbody>\n    <tr>\n      <th>0</th>\n      <td>I don't have the time.</td>\n      <td>[Perhaps next season when things clear up., Ci...</td>\n      <td>[Perhaps next season when things clear up.]</td>\n      <td>[Perhaps next season when things clear up., Ci...</td>\n    </tr>\n    <tr>\n      <th>1</th>\n      <td>I told you so.</td>\n      <td>[As per my prediction, this outcome does not c...</td>\n      <td>[As per my prediction, this outcome does not c...</td>\n      <td>[As per my prediction, this outcome does not c...</td>\n    </tr>\n    <tr>\n      <th>2</th>\n      <td>No.</td>\n      <td>[No thank you, but it sounds lovely., Regretta...</td>\n      <td>[No thank you, but it sounds lovely.]</td>\n      <td>[No thank you, but it sounds lovely., Regretta...</td>\n    </tr>\n    <tr>\n      <th>3</th>\n      <td>That meeting sounds like a waste of my time.</td>\n      <td>[I'm unable to add value to this meeting but i...</td>\n      <td>[I'm unable to add value to this meeting but i...</td>\n      <td>[I'm unable to add value to this meeting but i...</td>\n    </tr>\n    <tr>\n      <th>4</th>\n      <td>That sounds like a horrible idea.</td>\n      <td>[Are we confident that this is the best soluti...</td>\n      <td>[Are we confident that this is the best soluti...</td>\n      <td>[Are we confident that this is the best soluti...</td>\n    </tr>\n    <tr>\n      <th>5</th>\n      <td>You are overcomplicating this.</td>\n      <td>[Being mindful of timelines. let?s concentrate...</td>\n      <td>[Being mindful of timelines. let?s concentrate...</td>\n      <td>[Being mindful of timelines. let?s concentrate...</td>\n    </tr>\n  </tbody>\n</table>\n</div>"
     },
     "execution_count": 136,
     "metadata": {},
     "output_type": "execute_result"
    }
   ],
   "source": [
    "reg_to_multi_corp = single_to_multi_explode_and_save(data, 'regular', 'corp')\n",
    "reg_to_multi_corp"
   ],
   "metadata": {
    "collapsed": false
   }
  },
  {
   "cell_type": "code",
   "execution_count": 137,
   "outputs": [
    {
     "data": {
      "text/plain": "                                                 corp   \n0   Are we confident that this is the best solutio...  \\\n1   As per my prediction, this outcome does not co...   \n2                                  Ask me in a month.   \n3   Bandwidth is low, so i won't be able to make i...   \n4   Being mindful of timelines. let?s concentrate ...   \n5                   Circle back to me in a few weeks.   \n6   I appreciate the invitation, but i am complete...   \n7                I appreciate the offer, but i can't.   \n8   I have a few things i need to take care of fir...   \n9                        I wish i could make it work.   \n10                             I wish i were able to.   \n11                          I'd love to, but i can't.   \n12                                    I'd rather not.   \n13                                I'm afraid i can't.   \n14                            I'm honored, but can't.   \n15            I'm just swamped right now, so i can't.   \n16      I'm not able to make it this week/month/year.   \n17         I'm not taking on anything else right now.   \n18  I'm really buckling down on my priorities righ...   \n19                              I'm really maxed out.   \n20  I'm really spread thin these days, i just can'...   \n21  I'm unable to add value to this meeting but i ...   \n22           I've got too much on my plate right now.   \n23                                  If only i could!.   \n24          It?s not feasible for me to take this on.   \n25    Let me think about it and i'll get back to you.   \n26                No thank you, but it sounds lovely.   \n27             No thanks, i won't be able to make it.   \n28          Perhaps next season when things clear up.   \n29                      Regrettably, i'm not able to.   \n30                 Thanks for the offer, but i can't.   \n31            Thanks for thinking of me, but i can't.   \n32                    Thanks, but maybe another time.   \n33        You're so kind to think of me, but i can't.   \n\n                                           regular   \n0              [That sounds like a horrible idea.]  \\\n1                                 [I told you so.]   \n2                         [I don't have the time.]   \n3                         [I don't have the time.]   \n4                 [You are overcomplicating this.]   \n5                         [I don't have the time.]   \n6                                            [No.]   \n7                                            [No.]   \n8                         [I don't have the time.]   \n9                                            [No.]   \n10                                           [No.]   \n11                                           [No.]   \n12                                           [No.]   \n13                                           [No.]   \n14                                           [No.]   \n15                        [I don't have the time.]   \n16                        [I don't have the time.]   \n17                        [I don't have the time.]   \n18                        [I don't have the time.]   \n19                        [I don't have the time.]   \n20                        [I don't have the time.]   \n21  [That meeting sounds like a waste of my time.]   \n22                        [I don't have the time.]   \n23                                           [No.]   \n24                        [I don't have the time.]   \n25                        [I don't have the time.]   \n26                                           [No.]   \n27                                           [No.]   \n28                        [I don't have the time.]   \n29                                           [No.]   \n30                                           [No.]   \n31                                           [No.]   \n32                                           [No.]   \n33                                           [No.]   \n\n                                         regular_1   \n0              [That sounds like a horrible idea.]  \\\n1                                 [I told you so.]   \n2                         [I don't have the time.]   \n3                         [I don't have the time.]   \n4                 [You are overcomplicating this.]   \n5                         [I don't have the time.]   \n6                                            [No.]   \n7                                            [No.]   \n8                         [I don't have the time.]   \n9                                            [No.]   \n10                                           [No.]   \n11                                           [No.]   \n12                                           [No.]   \n13                                           [No.]   \n14                                           [No.]   \n15                        [I don't have the time.]   \n16                        [I don't have the time.]   \n17                        [I don't have the time.]   \n18                        [I don't have the time.]   \n19                        [I don't have the time.]   \n20                        [I don't have the time.]   \n21  [That meeting sounds like a waste of my time.]   \n22                        [I don't have the time.]   \n23                                           [No.]   \n24                        [I don't have the time.]   \n25                        [I don't have the time.]   \n26                                           [No.]   \n27                                           [No.]   \n28                        [I don't have the time.]   \n29                                           [No.]   \n30                                           [No.]   \n31                                           [No.]   \n32                                           [No.]   \n33                                           [No.]   \n\n                                         regular_5  \n0              [That sounds like a horrible idea.]  \n1                                 [I told you so.]  \n2                         [I don't have the time.]  \n3                         [I don't have the time.]  \n4                 [You are overcomplicating this.]  \n5                         [I don't have the time.]  \n6                                            [No.]  \n7                                            [No.]  \n8                         [I don't have the time.]  \n9                                            [No.]  \n10                                           [No.]  \n11                                           [No.]  \n12                                           [No.]  \n13                                           [No.]  \n14                                           [No.]  \n15                        [I don't have the time.]  \n16                        [I don't have the time.]  \n17                        [I don't have the time.]  \n18                        [I don't have the time.]  \n19                        [I don't have the time.]  \n20                        [I don't have the time.]  \n21  [That meeting sounds like a waste of my time.]  \n22                        [I don't have the time.]  \n23                                           [No.]  \n24                        [I don't have the time.]  \n25                        [I don't have the time.]  \n26                                           [No.]  \n27                                           [No.]  \n28                        [I don't have the time.]  \n29                                           [No.]  \n30                                           [No.]  \n31                                           [No.]  \n32                                           [No.]  \n33                                           [No.]  ",
      "text/html": "<div>\n<style scoped>\n    .dataframe tbody tr th:only-of-type {\n        vertical-align: middle;\n    }\n\n    .dataframe tbody tr th {\n        vertical-align: top;\n    }\n\n    .dataframe thead th {\n        text-align: right;\n    }\n</style>\n<table border=\"1\" class=\"dataframe\">\n  <thead>\n    <tr style=\"text-align: right;\">\n      <th></th>\n      <th>corp</th>\n      <th>regular</th>\n      <th>regular_1</th>\n      <th>regular_5</th>\n    </tr>\n  </thead>\n  <tbody>\n    <tr>\n      <th>0</th>\n      <td>Are we confident that this is the best solutio...</td>\n      <td>[That sounds like a horrible idea.]</td>\n      <td>[That sounds like a horrible idea.]</td>\n      <td>[That sounds like a horrible idea.]</td>\n    </tr>\n    <tr>\n      <th>1</th>\n      <td>As per my prediction, this outcome does not co...</td>\n      <td>[I told you so.]</td>\n      <td>[I told you so.]</td>\n      <td>[I told you so.]</td>\n    </tr>\n    <tr>\n      <th>2</th>\n      <td>Ask me in a month.</td>\n      <td>[I don't have the time.]</td>\n      <td>[I don't have the time.]</td>\n      <td>[I don't have the time.]</td>\n    </tr>\n    <tr>\n      <th>3</th>\n      <td>Bandwidth is low, so i won't be able to make i...</td>\n      <td>[I don't have the time.]</td>\n      <td>[I don't have the time.]</td>\n      <td>[I don't have the time.]</td>\n    </tr>\n    <tr>\n      <th>4</th>\n      <td>Being mindful of timelines. let?s concentrate ...</td>\n      <td>[You are overcomplicating this.]</td>\n      <td>[You are overcomplicating this.]</td>\n      <td>[You are overcomplicating this.]</td>\n    </tr>\n    <tr>\n      <th>5</th>\n      <td>Circle back to me in a few weeks.</td>\n      <td>[I don't have the time.]</td>\n      <td>[I don't have the time.]</td>\n      <td>[I don't have the time.]</td>\n    </tr>\n    <tr>\n      <th>6</th>\n      <td>I appreciate the invitation, but i am complete...</td>\n      <td>[No.]</td>\n      <td>[No.]</td>\n      <td>[No.]</td>\n    </tr>\n    <tr>\n      <th>7</th>\n      <td>I appreciate the offer, but i can't.</td>\n      <td>[No.]</td>\n      <td>[No.]</td>\n      <td>[No.]</td>\n    </tr>\n    <tr>\n      <th>8</th>\n      <td>I have a few things i need to take care of fir...</td>\n      <td>[I don't have the time.]</td>\n      <td>[I don't have the time.]</td>\n      <td>[I don't have the time.]</td>\n    </tr>\n    <tr>\n      <th>9</th>\n      <td>I wish i could make it work.</td>\n      <td>[No.]</td>\n      <td>[No.]</td>\n      <td>[No.]</td>\n    </tr>\n    <tr>\n      <th>10</th>\n      <td>I wish i were able to.</td>\n      <td>[No.]</td>\n      <td>[No.]</td>\n      <td>[No.]</td>\n    </tr>\n    <tr>\n      <th>11</th>\n      <td>I'd love to, but i can't.</td>\n      <td>[No.]</td>\n      <td>[No.]</td>\n      <td>[No.]</td>\n    </tr>\n    <tr>\n      <th>12</th>\n      <td>I'd rather not.</td>\n      <td>[No.]</td>\n      <td>[No.]</td>\n      <td>[No.]</td>\n    </tr>\n    <tr>\n      <th>13</th>\n      <td>I'm afraid i can't.</td>\n      <td>[No.]</td>\n      <td>[No.]</td>\n      <td>[No.]</td>\n    </tr>\n    <tr>\n      <th>14</th>\n      <td>I'm honored, but can't.</td>\n      <td>[No.]</td>\n      <td>[No.]</td>\n      <td>[No.]</td>\n    </tr>\n    <tr>\n      <th>15</th>\n      <td>I'm just swamped right now, so i can't.</td>\n      <td>[I don't have the time.]</td>\n      <td>[I don't have the time.]</td>\n      <td>[I don't have the time.]</td>\n    </tr>\n    <tr>\n      <th>16</th>\n      <td>I'm not able to make it this week/month/year.</td>\n      <td>[I don't have the time.]</td>\n      <td>[I don't have the time.]</td>\n      <td>[I don't have the time.]</td>\n    </tr>\n    <tr>\n      <th>17</th>\n      <td>I'm not taking on anything else right now.</td>\n      <td>[I don't have the time.]</td>\n      <td>[I don't have the time.]</td>\n      <td>[I don't have the time.]</td>\n    </tr>\n    <tr>\n      <th>18</th>\n      <td>I'm really buckling down on my priorities righ...</td>\n      <td>[I don't have the time.]</td>\n      <td>[I don't have the time.]</td>\n      <td>[I don't have the time.]</td>\n    </tr>\n    <tr>\n      <th>19</th>\n      <td>I'm really maxed out.</td>\n      <td>[I don't have the time.]</td>\n      <td>[I don't have the time.]</td>\n      <td>[I don't have the time.]</td>\n    </tr>\n    <tr>\n      <th>20</th>\n      <td>I'm really spread thin these days, i just can'...</td>\n      <td>[I don't have the time.]</td>\n      <td>[I don't have the time.]</td>\n      <td>[I don't have the time.]</td>\n    </tr>\n    <tr>\n      <th>21</th>\n      <td>I'm unable to add value to this meeting but i ...</td>\n      <td>[That meeting sounds like a waste of my time.]</td>\n      <td>[That meeting sounds like a waste of my time.]</td>\n      <td>[That meeting sounds like a waste of my time.]</td>\n    </tr>\n    <tr>\n      <th>22</th>\n      <td>I've got too much on my plate right now.</td>\n      <td>[I don't have the time.]</td>\n      <td>[I don't have the time.]</td>\n      <td>[I don't have the time.]</td>\n    </tr>\n    <tr>\n      <th>23</th>\n      <td>If only i could!.</td>\n      <td>[No.]</td>\n      <td>[No.]</td>\n      <td>[No.]</td>\n    </tr>\n    <tr>\n      <th>24</th>\n      <td>It?s not feasible for me to take this on.</td>\n      <td>[I don't have the time.]</td>\n      <td>[I don't have the time.]</td>\n      <td>[I don't have the time.]</td>\n    </tr>\n    <tr>\n      <th>25</th>\n      <td>Let me think about it and i'll get back to you.</td>\n      <td>[I don't have the time.]</td>\n      <td>[I don't have the time.]</td>\n      <td>[I don't have the time.]</td>\n    </tr>\n    <tr>\n      <th>26</th>\n      <td>No thank you, but it sounds lovely.</td>\n      <td>[No.]</td>\n      <td>[No.]</td>\n      <td>[No.]</td>\n    </tr>\n    <tr>\n      <th>27</th>\n      <td>No thanks, i won't be able to make it.</td>\n      <td>[No.]</td>\n      <td>[No.]</td>\n      <td>[No.]</td>\n    </tr>\n    <tr>\n      <th>28</th>\n      <td>Perhaps next season when things clear up.</td>\n      <td>[I don't have the time.]</td>\n      <td>[I don't have the time.]</td>\n      <td>[I don't have the time.]</td>\n    </tr>\n    <tr>\n      <th>29</th>\n      <td>Regrettably, i'm not able to.</td>\n      <td>[No.]</td>\n      <td>[No.]</td>\n      <td>[No.]</td>\n    </tr>\n    <tr>\n      <th>30</th>\n      <td>Thanks for the offer, but i can't.</td>\n      <td>[No.]</td>\n      <td>[No.]</td>\n      <td>[No.]</td>\n    </tr>\n    <tr>\n      <th>31</th>\n      <td>Thanks for thinking of me, but i can't.</td>\n      <td>[No.]</td>\n      <td>[No.]</td>\n      <td>[No.]</td>\n    </tr>\n    <tr>\n      <th>32</th>\n      <td>Thanks, but maybe another time.</td>\n      <td>[No.]</td>\n      <td>[No.]</td>\n      <td>[No.]</td>\n    </tr>\n    <tr>\n      <th>33</th>\n      <td>You're so kind to think of me, but i can't.</td>\n      <td>[No.]</td>\n      <td>[No.]</td>\n      <td>[No.]</td>\n    </tr>\n  </tbody>\n</table>\n</div>"
     },
     "execution_count": 137,
     "metadata": {},
     "output_type": "execute_result"
    }
   ],
   "source": [
    "multi_reg_to_corp = single_to_multi_explode_and_save(data, 'corp', 'regular')\n",
    "multi_reg_to_corp"
   ],
   "metadata": {
    "collapsed": false
   }
  },
  {
   "cell_type": "markdown",
   "source": [],
   "metadata": {
    "collapsed": false
   }
  }
 ],
 "metadata": {
  "kernelspec": {
   "display_name": "Python 3",
   "language": "python",
   "name": "python3"
  },
  "language_info": {
   "codemirror_mode": {
    "name": "ipython",
    "version": 2
   },
   "file_extension": ".py",
   "mimetype": "text/x-python",
   "name": "python",
   "nbconvert_exporter": "python",
   "pygments_lexer": "ipython2",
   "version": "2.7.6"
  }
 },
 "nbformat": 4,
 "nbformat_minor": 0
}