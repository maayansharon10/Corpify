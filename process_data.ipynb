{
 "cells": [
  {
   "cell_type": "markdown",
   "source": [
    "current problems that should be discussed -\n",
    "# todo : should all text be with lower case?\n",
    "# todo : currently each regular is map to 1-5 different corp sentences, BUT it's still possible that 2 different regulars would be mapped to same corp sentences\n"
   ],
   "metadata": {
    "collapsed": false
   }
  },
  {
   "cell_type": "markdown",
   "source": [
    "import packages:"
   ],
   "metadata": {
    "collapsed": false
   }
  },
  {
   "cell_type": "code",
   "execution_count": 1,
   "outputs": [],
   "source": [
    "import pandas as pd"
   ],
   "metadata": {
    "collapsed": false
   }
  },
  {
   "cell_type": "markdown",
   "source": [
    "load data"
   ],
   "metadata": {
    "collapsed": false
   }
  },
  {
   "cell_type": "code",
   "execution_count": 34,
   "outputs": [
    {
     "data": {
      "text/plain": "                                         regular   \n0                                             No  \\\n3                                             No   \n4                                             No   \n5                                             No   \n6                                             No   \n7                                             No   \n8                                             No   \n9                                             No   \n10                                            No   \n11                                            No   \n12                         I don't have the time   \n13                         I don't have the time   \n14                         I don't have the time   \n15                         I don't have the time   \n16                         I don't have the time   \n17                         I don't have the time   \n18                         I don't have the time   \n19                         I don't have the time   \n20                         I don't have the time   \n21                         I don't have the time   \n22                         I don't have the time   \n23                         I don't have the time   \n24                         I don't have the time   \n25                         I don't have the time   \n26                                            NO   \n27                                            NO   \n28                                            NO   \n29                                            no   \n30                                            no   \n31                                            no   \n32                You are overcomplicating this.   \n33  That meeting sounds like a waste of my time.   \n34                                I told you so.   \n35              That sounds like a horrible idea   \n\n                                                 corp  \n0                I appreciate the offer, but I can't.  \n3                             I'm honored, but can't.  \n4                           I'd love to, but I can't.  \n5   I appreciate the invitation, but I am complete...  \n6             Thanks for thinking of me, but I can't.  \n7                       Regrettably, I'm not able to.  \n8         You're so kind to think of me, but I can't.  \n9                 No thank you, but it sounds lovely.  \n10                 Thanks for the offer, but I can't.  \n11                    Thanks, but Maybe another time.  \n12            I'm just swamped right now, so I can't.  \n13      I'm not able to make it this week/month/year.  \n14          Perhaps next season when things clear up.  \n15                                 Ask me in a month.  \n16                  Circle back to me in a few weeks.  \n17  I have a few things I need to take care of fir...  \n18  I'm really buckling down on my priorities righ...  \n19                              I'm really maxed out.  \n20          It?s not feasible for me to take this on.  \n21    Let me think about it and I'll get back to you.  \n22  I'm really spread thin these days, I just can'...  \n23           I've got too much on my plate right now.  \n24         I'm not taking on anything else right now.  \n25  Bandwidth is low, so I won't be able to make i...  \n26                       I wish I could make it work.  \n27                             I wish I were able to.  \n28                                     I'd rather not  \n29                                I'm afraid I can't.  \n30                                   If only I could!  \n31             No thanks, I won't be able to make it.  \n32  Being mindful of timelines. Let?s concentrate ...  \n33  I'm unable to add value to this meeting but I ...  \n34  As per my prediction, this outcome does not co...  \n35  Are we confident that this is the best solutio...  ",
      "text/html": "<div>\n<style scoped>\n    .dataframe tbody tr th:only-of-type {\n        vertical-align: middle;\n    }\n\n    .dataframe tbody tr th {\n        vertical-align: top;\n    }\n\n    .dataframe thead th {\n        text-align: right;\n    }\n</style>\n<table border=\"1\" class=\"dataframe\">\n  <thead>\n    <tr style=\"text-align: right;\">\n      <th></th>\n      <th>regular</th>\n      <th>corp</th>\n    </tr>\n  </thead>\n  <tbody>\n    <tr>\n      <th>0</th>\n      <td>No</td>\n      <td>I appreciate the offer, but I can't.</td>\n    </tr>\n    <tr>\n      <th>3</th>\n      <td>No</td>\n      <td>I'm honored, but can't.</td>\n    </tr>\n    <tr>\n      <th>4</th>\n      <td>No</td>\n      <td>I'd love to, but I can't.</td>\n    </tr>\n    <tr>\n      <th>5</th>\n      <td>No</td>\n      <td>I appreciate the invitation, but I am complete...</td>\n    </tr>\n    <tr>\n      <th>6</th>\n      <td>No</td>\n      <td>Thanks for thinking of me, but I can't.</td>\n    </tr>\n    <tr>\n      <th>7</th>\n      <td>No</td>\n      <td>Regrettably, I'm not able to.</td>\n    </tr>\n    <tr>\n      <th>8</th>\n      <td>No</td>\n      <td>You're so kind to think of me, but I can't.</td>\n    </tr>\n    <tr>\n      <th>9</th>\n      <td>No</td>\n      <td>No thank you, but it sounds lovely.</td>\n    </tr>\n    <tr>\n      <th>10</th>\n      <td>No</td>\n      <td>Thanks for the offer, but I can't.</td>\n    </tr>\n    <tr>\n      <th>11</th>\n      <td>No</td>\n      <td>Thanks, but Maybe another time.</td>\n    </tr>\n    <tr>\n      <th>12</th>\n      <td>I don't have the time</td>\n      <td>I'm just swamped right now, so I can't.</td>\n    </tr>\n    <tr>\n      <th>13</th>\n      <td>I don't have the time</td>\n      <td>I'm not able to make it this week/month/year.</td>\n    </tr>\n    <tr>\n      <th>14</th>\n      <td>I don't have the time</td>\n      <td>Perhaps next season when things clear up.</td>\n    </tr>\n    <tr>\n      <th>15</th>\n      <td>I don't have the time</td>\n      <td>Ask me in a month.</td>\n    </tr>\n    <tr>\n      <th>16</th>\n      <td>I don't have the time</td>\n      <td>Circle back to me in a few weeks.</td>\n    </tr>\n    <tr>\n      <th>17</th>\n      <td>I don't have the time</td>\n      <td>I have a few things I need to take care of fir...</td>\n    </tr>\n    <tr>\n      <th>18</th>\n      <td>I don't have the time</td>\n      <td>I'm really buckling down on my priorities righ...</td>\n    </tr>\n    <tr>\n      <th>19</th>\n      <td>I don't have the time</td>\n      <td>I'm really maxed out.</td>\n    </tr>\n    <tr>\n      <th>20</th>\n      <td>I don't have the time</td>\n      <td>It?s not feasible for me to take this on.</td>\n    </tr>\n    <tr>\n      <th>21</th>\n      <td>I don't have the time</td>\n      <td>Let me think about it and I'll get back to you.</td>\n    </tr>\n    <tr>\n      <th>22</th>\n      <td>I don't have the time</td>\n      <td>I'm really spread thin these days, I just can'...</td>\n    </tr>\n    <tr>\n      <th>23</th>\n      <td>I don't have the time</td>\n      <td>I've got too much on my plate right now.</td>\n    </tr>\n    <tr>\n      <th>24</th>\n      <td>I don't have the time</td>\n      <td>I'm not taking on anything else right now.</td>\n    </tr>\n    <tr>\n      <th>25</th>\n      <td>I don't have the time</td>\n      <td>Bandwidth is low, so I won't be able to make i...</td>\n    </tr>\n    <tr>\n      <th>26</th>\n      <td>NO</td>\n      <td>I wish I could make it work.</td>\n    </tr>\n    <tr>\n      <th>27</th>\n      <td>NO</td>\n      <td>I wish I were able to.</td>\n    </tr>\n    <tr>\n      <th>28</th>\n      <td>NO</td>\n      <td>I'd rather not</td>\n    </tr>\n    <tr>\n      <th>29</th>\n      <td>no</td>\n      <td>I'm afraid I can't.</td>\n    </tr>\n    <tr>\n      <th>30</th>\n      <td>no</td>\n      <td>If only I could!</td>\n    </tr>\n    <tr>\n      <th>31</th>\n      <td>no</td>\n      <td>No thanks, I won't be able to make it.</td>\n    </tr>\n    <tr>\n      <th>32</th>\n      <td>You are overcomplicating this.</td>\n      <td>Being mindful of timelines. Let?s concentrate ...</td>\n    </tr>\n    <tr>\n      <th>33</th>\n      <td>That meeting sounds like a waste of my time.</td>\n      <td>I'm unable to add value to this meeting but I ...</td>\n    </tr>\n    <tr>\n      <th>34</th>\n      <td>I told you so.</td>\n      <td>As per my prediction, this outcome does not co...</td>\n    </tr>\n    <tr>\n      <th>35</th>\n      <td>That sounds like a horrible idea</td>\n      <td>Are we confident that this is the best solutio...</td>\n    </tr>\n  </tbody>\n</table>\n</div>"
     },
     "execution_count": 34,
     "metadata": {},
     "output_type": "execute_result"
    }
   ],
   "source": [
    "data = pd.read_csv('data.csv')\n",
    "data = data.drop_duplicates()\n",
    "data"
   ],
   "metadata": {
    "collapsed": false
   }
  },
  {
   "cell_type": "markdown",
   "source": [
    "number of corp"
   ],
   "metadata": {
    "collapsed": false
   }
  },
  {
   "cell_type": "code",
   "execution_count": null,
   "outputs": [],
   "source": [
    "num_corp_dup = {1,5}"
   ],
   "metadata": {
    "collapsed": false
   }
  },
  {
   "cell_type": "markdown",
   "source": [
    "For each regular - pick first 5 corp sentences (no corp dup are allowed for each reg)"
   ],
   "metadata": {
    "collapsed": false
   }
  },
  {
   "cell_type": "code",
   "execution_count": 36,
   "outputs": [
    {
     "data": {
      "text/plain": "                                        regular   \n0                         I don't have the time  \\\n1                                I told you so.   \n2                                            NO   \n3                                            No   \n4  That meeting sounds like a waste of my time.   \n5              That sounds like a horrible idea   \n6                You are overcomplicating this.   \n7                                            no   \n\n                                           corp_list   \n0  [Perhaps next season when things clear up., Ci...  \\\n1  [As per my prediction, this outcome does not c...   \n2  [I'd rather not, I wish I could make it work.,...   \n3  [I appreciate the invitation, but I am complet...   \n4  [I'm unable to add value to this meeting but I...   \n5  [Are we confident that this is the best soluti...   \n6  [Being mindful of timelines. Let?s concentrate...   \n7  [If only I could!, I'm afraid I can't., No tha...   \n\n                                        corp_first_1   \n0        [Perhaps next season when things clear up.]  \\\n1  [As per my prediction, this outcome does not c...   \n2                                   [I'd rather not]   \n3  [I appreciate the invitation, but I am complet...   \n4  [I'm unable to add value to this meeting but I...   \n5  [Are we confident that this is the best soluti...   \n6  [Being mindful of timelines. Let?s concentrate...   \n7                                 [If only I could!]   \n\n                                        corp_first_5  \n0  [Perhaps next season when things clear up., Ci...  \n1  [As per my prediction, this outcome does not c...  \n2  [I'd rather not, I wish I could make it work.,...  \n3  [I appreciate the invitation, but I am complet...  \n4  [I'm unable to add value to this meeting but I...  \n5  [Are we confident that this is the best soluti...  \n6  [Being mindful of timelines. Let?s concentrate...  \n7  [If only I could!, I'm afraid I can't., No tha...  ",
      "text/html": "<div>\n<style scoped>\n    .dataframe tbody tr th:only-of-type {\n        vertical-align: middle;\n    }\n\n    .dataframe tbody tr th {\n        vertical-align: top;\n    }\n\n    .dataframe thead th {\n        text-align: right;\n    }\n</style>\n<table border=\"1\" class=\"dataframe\">\n  <thead>\n    <tr style=\"text-align: right;\">\n      <th></th>\n      <th>regular</th>\n      <th>corp_list</th>\n      <th>corp_first_1</th>\n      <th>corp_first_5</th>\n    </tr>\n  </thead>\n  <tbody>\n    <tr>\n      <th>0</th>\n      <td>I don't have the time</td>\n      <td>[Perhaps next season when things clear up., Ci...</td>\n      <td>[Perhaps next season when things clear up.]</td>\n      <td>[Perhaps next season when things clear up., Ci...</td>\n    </tr>\n    <tr>\n      <th>1</th>\n      <td>I told you so.</td>\n      <td>[As per my prediction, this outcome does not c...</td>\n      <td>[As per my prediction, this outcome does not c...</td>\n      <td>[As per my prediction, this outcome does not c...</td>\n    </tr>\n    <tr>\n      <th>2</th>\n      <td>NO</td>\n      <td>[I'd rather not, I wish I could make it work.,...</td>\n      <td>[I'd rather not]</td>\n      <td>[I'd rather not, I wish I could make it work.,...</td>\n    </tr>\n    <tr>\n      <th>3</th>\n      <td>No</td>\n      <td>[I appreciate the invitation, but I am complet...</td>\n      <td>[I appreciate the invitation, but I am complet...</td>\n      <td>[I appreciate the invitation, but I am complet...</td>\n    </tr>\n    <tr>\n      <th>4</th>\n      <td>That meeting sounds like a waste of my time.</td>\n      <td>[I'm unable to add value to this meeting but I...</td>\n      <td>[I'm unable to add value to this meeting but I...</td>\n      <td>[I'm unable to add value to this meeting but I...</td>\n    </tr>\n    <tr>\n      <th>5</th>\n      <td>That sounds like a horrible idea</td>\n      <td>[Are we confident that this is the best soluti...</td>\n      <td>[Are we confident that this is the best soluti...</td>\n      <td>[Are we confident that this is the best soluti...</td>\n    </tr>\n    <tr>\n      <th>6</th>\n      <td>You are overcomplicating this.</td>\n      <td>[Being mindful of timelines. Let?s concentrate...</td>\n      <td>[Being mindful of timelines. Let?s concentrate...</td>\n      <td>[Being mindful of timelines. Let?s concentrate...</td>\n    </tr>\n    <tr>\n      <th>7</th>\n      <td>no</td>\n      <td>[If only I could!, I'm afraid I can't., No tha...</td>\n      <td>[If only I could!]</td>\n      <td>[If only I could!, I'm afraid I can't., No tha...</td>\n    </tr>\n  </tbody>\n</table>\n</div>"
     },
     "execution_count": 36,
     "metadata": {},
     "output_type": "execute_result"
    }
   ],
   "source": [
    "reg_to_multi_corp = data.groupby('regular')['corp'].apply(set).apply(list).reset_index(name='corp_list')\n",
    "num_corp_dup = {1,5}\n",
    "for i in num_corp_dup:\n",
    "    reg_to_multi_corp[f'corp_first_{i}'] = reg_to_multi_corp.corp_list\\\n",
    "        .apply(lambda lst: list(dict.fromkeys(lst))[:min(i, len(lst))])\n",
    "reg_to_multi_corp"
   ],
   "metadata": {
    "collapsed": false
   }
  },
  {
   "cell_type": "markdown",
   "source": [],
   "metadata": {
    "collapsed": false
   }
  }
 ],
 "metadata": {
  "kernelspec": {
   "display_name": "Python 3",
   "language": "python",
   "name": "python3"
  },
  "language_info": {
   "codemirror_mode": {
    "name": "ipython",
    "version": 2
   },
   "file_extension": ".py",
   "mimetype": "text/x-python",
   "name": "python",
   "nbconvert_exporter": "python",
   "pygments_lexer": "ipython2",
   "version": "2.7.6"
  }
 },
 "nbformat": 4,
 "nbformat_minor": 0
}
